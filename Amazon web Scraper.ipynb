{
 "cells": [
  {
   "cell_type": "markdown",
   "id": "8cbd2747",
   "metadata": {},
   "source": [
    "# Import Libraries / Librerias a usar"
   ]
  },
  {
   "cell_type": "code",
   "execution_count": 1,
   "id": "0efff02d",
   "metadata": {},
   "outputs": [],
   "source": [
    "from bs4 import BeautifulSoup\n",
    "import requests\n",
    "import smtplib # Enviar emails a mi mismo / Send emails to myself \n",
    "import time\n",
    "import datetime"
   ]
  },
  {
   "cell_type": "markdown",
   "id": "babbdf84",
   "metadata": {},
   "source": [
    "# Connect to website / conectamos al sitio"
   ]
  },
  {
   "cell_type": "code",
   "execution_count": 2,
   "id": "70157a7c",
   "metadata": {},
   "outputs": [],
   "source": [
    "URL = \"https://www.amazon.es/ARGENTINA-ESPA%C3%91A-BANDERA-AMISTAD-Camiseta/dp/B08HY4FX84/ref=sr_1_2?keywords=camiseta+de+argentina+y+espa%C3%B1a&qid=1680246419&sprefix=argentina+y+espa%2Caps%2C176&sr=8-2\"\n",
    "\n",
    "headers = {\"User-Agent\": \"Mozilla/5.0 (Windows NT 10.0; Win64; x64) AppleWebKit/537.36 (KHTML, like Gecko) Chrome/111.0.0.0 Safari/537.36\"}\n",
    "\n",
    "page = requests.get(URL, headers=headers)\n",
    "\n",
    "soup1 = BeautifulSoup(page.content, \"html.parser\")\n",
    "\n",
    "soup2 = BeautifulSoup(soup1.prettify(), 'html.parser') #Make thinks look better / Hace que se vea mas bonito\n",
    "\n",
    "title = soup2.find(id='productTitle').get_text()\n",
    "\n",
    "price = soup2.find(id=\"corePriceDisplay_desktop_feature_div\").get_text()\n",
    "\n",
    "#fit0 = soup2.find(id='fit_type_0').get_text()\n",
    "#fit1 = soup2.find(id='fit_type_1').get_text()\n",
    "#fit2 = soup2.find(id='fit_type_2').get_text()\n"
   ]
  },
  {
   "cell_type": "markdown",
   "id": "1cc69c20",
   "metadata": {},
   "source": [
    "# Let's clean the data / Limpiemos los datos"
   ]
  },
  {
   "cell_type": "code",
   "execution_count": 50,
   "id": "e9a13dcd",
   "metadata": {},
   "outputs": [
    {
     "name": "stdout",
     "output_type": "stream",
     "text": [
      "ARGENTINA ESPAÑA BANDERA de la AMISTAD ARGENTINA Camiseta\n",
      "16,90\n"
     ]
    }
   ],
   "source": [
    "price = price.strip()[0:5]\n",
    "title = title.strip()\n",
    "#fit = (fit0.strip() + ' ' + fit1.strip() + ' ' + fit2.strip())\n",
    "\n",
    "print (title)\n",
    "print(price)\n",
    "#print(fit)"
   ]
  },
  {
   "cell_type": "markdown",
   "id": "2cee5914",
   "metadata": {},
   "source": [
    "# Add time stamp / Agregamos una marca de tiempo"
   ]
  },
  {
   "cell_type": "code",
   "execution_count": 51,
   "id": "edc3328d",
   "metadata": {},
   "outputs": [
    {
     "name": "stdout",
     "output_type": "stream",
     "text": [
      "2023-04-02\n"
     ]
    }
   ],
   "source": [
    "import datetime\n",
    "\n",
    "today = datetime.date.today()\n",
    "\n",
    "print(today)"
   ]
  },
  {
   "cell_type": "markdown",
   "id": "c5343358",
   "metadata": {},
   "source": [
    "# Create CSV file to insert this data / Creamos un CSV para nuestros datos"
   ]
  },
  {
   "cell_type": "code",
   "execution_count": 68,
   "id": "50fe9b06",
   "metadata": {},
   "outputs": [],
   "source": [
    "# Let's create a CSV file to insert our data, so we can pull it once we need create a Data set\n",
    "\n",
    "import csv\n",
    "\n",
    "header = ['Product', 'Price','Date']\n",
    "data = [title,price,today]\n",
    "\n",
    "with open('AmazonScriptDataset.csv', 'w', newline='', encoding='UTF8') as f:\n",
    "    writer = csv.writer(f)\n",
    "    writer.writerow(header)\n",
    "    writer.writerow(data)"
   ]
  },
  {
   "cell_type": "markdown",
   "id": "87b82f62",
   "metadata": {},
   "source": [
    "# Check the data / Comprobamos el CSV"
   ]
  },
  {
   "cell_type": "code",
   "execution_count": 54,
   "id": "b045bd88",
   "metadata": {},
   "outputs": [
    {
     "name": "stdout",
     "output_type": "stream",
     "text": [
      "                                             Product  Price        Date\n",
      "0  ARGENTINA ESPAÑA BANDERA de la AMISTAD ARGENTI...  16,90  2023-04-02\n"
     ]
    }
   ],
   "source": [
    "import pandas as pd\n",
    "\n",
    "dataframe = pd.read_csv(r'C:\\Users\\lauta\\AmazonScriptDataset.csv')\n",
    "\n",
    "print(dataframe)"
   ]
  },
  {
   "cell_type": "markdown",
   "id": "bba34ed4",
   "metadata": {},
   "source": [
    "# Let's create a Price Tracker OT / Rastreador de precio por tiempo"
   ]
  },
  {
   "cell_type": "code",
   "execution_count": 67,
   "id": "ac6501a5",
   "metadata": {},
   "outputs": [],
   "source": [
    "# We are going to append data to our CSV\n",
    "\n",
    "with open('AmazonScriptDataset.csv', 'w', newline='', encoding='UTF8') as f:\n",
    "    writer = csv.writer(f)\n",
    "    writer.writerow(data)"
   ]
  },
  {
   "cell_type": "code",
   "execution_count": 75,
   "id": "6eeaea2d",
   "metadata": {},
   "outputs": [],
   "source": [
    "def check_price():\n",
    "    URL = \"https://www.amazon.es/ARGENTINA-ESPA%C3%91A-BANDERA-AMISTAD-Camiseta/dp/B08HY4FX84/ref=sr_1_2?keywords=camiseta+de+argentina+y+espa%C3%B1a&qid=1680246419&sprefix=argentina+y+espa%2Caps%2C176&sr=8-2\"\n",
    "\n",
    "    headers = {\"User-Agent\": \"Mozilla/5.0 (Windows NT 10.0; Win64; x64) AppleWebKit/537.36 (KHTML, like Gecko) Chrome/111.0.0.0 Safari/537.36\"}\n",
    "\n",
    "    page = requests.get(URL, headers=headers)\n",
    "\n",
    "    soup1 = BeautifulSoup(page.content, \"html.parser\")\n",
    "\n",
    "    soup2 = BeautifulSoup(soup1.prettify(), 'html.parser') #Make thinks look better / Hace que se vea mas bonito\n",
    "\n",
    "    title = soup2.find(id='productTitle').get_text()\n",
    "\n",
    "    price = soup2.find(id=\"corePriceDisplay_desktop_feature_div\").get_text()\n",
    "    \n",
    "    price = price.strip()[0:5]\n",
    "    \n",
    "    title = title.strip()\n",
    "    \n",
    "    import datetime\n",
    "    today = datetime.date.today()\n",
    "    \n",
    "    import csv\n",
    "\n",
    "    header = ['Product', 'Price','Date']\n",
    "    data = [title,price,today]\n",
    "\n",
    "    with open('AmazonScriptDataset.csv', 'w', newline='', encoding='UTF8') as f:\n",
    "        writer = csv.writer(f)\n",
    "        writer.writerow(data)\n",
    "        \n",
    "    if(price<14):\n",
    "        send_mail()"
   ]
  },
  {
   "cell_type": "markdown",
   "id": "9ba29674",
   "metadata": {},
   "source": [
    "# Create a Timer / Creamos un Timer"
   ]
  },
  {
   "cell_type": "code",
   "execution_count": null,
   "id": "72bc299b",
   "metadata": {},
   "outputs": [],
   "source": [
    "while(True):\n",
    "    check_price()\n",
    "    time.sleep(86400) #Check the price once a day."
   ]
  },
  {
   "cell_type": "code",
   "execution_count": 81,
   "id": "5084e799",
   "metadata": {},
   "outputs": [
    {
     "name": "stdout",
     "output_type": "stream",
     "text": [
      "                                             Product  Price        Date\n",
      "0  ARGENTINA ESPAÑA BANDERA de la AMISTAD ARGENTI...  16,90  2023-04-02\n"
     ]
    }
   ],
   "source": [
    "import pandas as pd\n",
    "\n",
    "dataframe = pd.read_csv(r'C:\\Users\\lauta\\AmazonScriptDataset.csv')\n",
    "\n",
    "print(dataframe)"
   ]
  },
  {
   "cell_type": "markdown",
   "id": "f2741aed",
   "metadata": {},
   "source": [
    "# Send me an email when it's low price / Enviame un email en descuento !"
   ]
  },
  {
   "cell_type": "code",
   "execution_count": null,
   "id": "9087c52a",
   "metadata": {},
   "outputs": [],
   "source": [
    "def send_mail():\n",
    "    server = smtplib.SMTP_SSL('smtp.gmail.com',465)\n",
    "    server.ehlo()\n",
    "    #server.starttls()\n",
    "    server.ehlo()\n",
    "    server.login('lautaro.nocera@hotmail.com','XXXXXXXXXXX')\n",
    "    \n",
    "    subject= 'La remera que queres esta en descuento!'\n",
    "    Body= 'Lautaro, compra ahora la remera porque no va a bajar mas que esto !! jajaja'\n",
    "    \n",
    "    msg=f'subject:{subject}\\n\\n{body}'\n",
    "    \n",
    "    server.sendmail(\n",
    "        'lautaro.nocera@hotmail.com',msg)"
   ]
  }
 ],
 "metadata": {
  "kernelspec": {
   "display_name": "Python 3 (ipykernel)",
   "language": "python",
   "name": "python3"
  },
  "language_info": {
   "codemirror_mode": {
    "name": "ipython",
    "version": 3
   },
   "file_extension": ".py",
   "mimetype": "text/x-python",
   "name": "python",
   "nbconvert_exporter": "python",
   "pygments_lexer": "ipython3",
   "version": "3.10.9"
  }
 },
 "nbformat": 4,
 "nbformat_minor": 5
}
